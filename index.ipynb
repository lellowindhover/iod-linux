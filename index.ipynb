{
 "cells": [
  {
   "cell_type": "markdown",
   "metadata": {
    "id": "gm7oR_yWsjnk"
   },
   "source": [
    "<div>\n",
    "<img src=https://www.institutedata.com/wp-content/uploads/2019/10/iod_h_tp_primary_c.svg width=\"300\">\n",
    "</div>"
   ]
  },
  {
   "cell_type": "markdown",
   "metadata": {},
   "source": [
    "# Module 1"
   ]
  },
  {
   "cell_type": "markdown",
   "metadata": {
    "id": "UlfytRuusjnn"
   },
   "source": [
    "# Lab0"
   ]
  },
  {
   "cell_type": "code",
   "execution_count": 15,
   "metadata": {
    "id": "xHsJeO0tsjno"
   },
   "outputs": [],
   "source": [
    "# Welcome to the Institute of Data!"
   ]
  },
  {
   "cell_type": "markdown",
   "metadata": {
    "id": "j-Y7yPDBsjnw"
   },
   "source": []
  },
  {
   "cell_type": "markdown",
   "metadata": {
    "id": "mFSxSn2hsjnz"
   },
   "source": [
    "# 1.2 Calculus - Limits Lab\n"
   ]
  },
  {
   "cell_type": "markdown",
   "metadata": {
    "id": "l2gHGPKVsjn0"
   },
   "source": [
    "# Lab 1.1.1 Vector _ Matrix Operations "
   ]
  },
  {
   "cell_type": "markdown",
   "metadata": {
    "colab": {
     "base_uri": "https://localhost:8080/",
     "height": 712
    },
    "id": "VNyg3soKsjn3",
    "outputId": "230ac33d-8184-4fe3-c144-a594e8ee0a20"
   },
   "source": [
    "# Lab 1.1.2 Calculus - Derivative Lab)"
   ]
  },
  {
   "cell_type": "markdown",
   "metadata": {},
   "source": [
    "# Lab 1.1.2 Calculus - Integral Lab"
   ]
  },
  {
   "cell_type": "markdown",
   "metadata": {
    "id": "0Le6yeYXsjn-"
   },
   "source": [
    "# Lab 1.1.3 Statistics - part 1 Lab"
   ]
  },
  {
   "cell_type": "markdown",
   "metadata": {
    "id": "iR8WVIqssjoD"
   },
   "source": [
    "# Lab 1.1.4 Statistics - part 2 Lab"
   ]
  },
  {
   "cell_type": "markdown",
   "metadata": {},
   "source": [
    "# Lab 1.1.4 Statistics - part 2 Lab"
   ]
  },
  {
   "cell_type": "markdown",
   "metadata": {
    "id": "QaaJqQxUsjoG"
   },
   "source": [
    "## Lab 1.2.1 Numpy Lab"
   ]
  },
  {
   "cell_type": "markdown",
   "metadata": {},
   "source": [
    "# Lab 1.2.2 Pandas Lab"
   ]
  },
  {
   "cell_type": "markdown",
   "metadata": {
    "id": "9NPcYC45sjoI"
   },
   "source": []
  },
  {
   "cell_type": "markdown",
   "metadata": {
    "id": "Xnk9hncbsjoJ"
   },
   "source": [
    "# Module 2m"
   ]
  },
  {
   "cell_type": "markdown",
   "metadata": {
    "id": "DEqC7hHbsjoN"
   },
   "source": [
    "# health insurance"
   ]
  },
  {
   "cell_type": "raw",
   "metadata": {},
   "source": [
    "## Check data\n",
    "\n",
    "# About X\n",
    "print('X is a %s' % type(X))\n",
    "print('X has %d rows and %d columns' % X.shape)\n",
    "print('Basic Statistics about X%s' % ('_'*50))\n",
    "print(X.describe().T)\n",
    "print('')\n",
    "print('Sample of X%s' % ('_'*50))\n",
    "print(X.head())"
   ]
  },
  {
   "cell_type": "raw",
   "metadata": {
    "colab": {
     "base_uri": "https://localhost:8080/",
     "height": 337
    },
    "id": "whvMHo6rsjoU",
    "outputId": "0f05a34f-f5bd-46ac-9798-73b43c8e4d95"
   },
   "source": [
    "df_encoded = copy.deepcopy(df)\n",
    "df_encoded.loc[:,['sex', 'smoker', 'region']] = df_encoded.loc[:,['sex', 'smoker', 'region']].apply(LabelEncoder().fit_transform) \n",
    "\n",
    "sns.pairplot(df_encoded, diag_kind =\"kde\", corner = True)\n",
    "plt.show()\n"
   ]
  },
  {
   "cell_type": "markdown",
   "metadata": {
    "id": "ZNsyA27Dlwxs"
   },
   "source": [
    "\n",
    "\n",
    "---\n",
    "\n",
    "\n",
    "\n",
    "---\n",
    "\n",
    "\n",
    "\n",
    "> > > > > > > > > © 2022 Institute of Data\n",
    "\n",
    "\n",
    "---\n",
    "\n",
    "\n",
    "\n",
    "---\n",
    "\n",
    "\n",
    "\n"
   ]
  }
 ],
 "metadata": {
  "colab": {
   "collapsed_sections": [],
   "provenance": []
  },
  "kernelspec": {
   "display_name": "Python 3 (ipykernel)",
   "language": "python",
   "name": "python3"
  },
  "language_info": {
   "codemirror_mode": {
    "name": "ipython",
    "version": 3
   },
   "file_extension": ".py",
   "mimetype": "text/x-python",
   "name": "python",
   "nbconvert_exporter": "python",
   "pygments_lexer": "ipython3",
   "version": "3.9.13"
  }
 },
 "nbformat": 4,
 "nbformat_minor": 1
}
