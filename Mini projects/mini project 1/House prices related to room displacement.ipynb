{
 "cells": [
  {
   "cell_type": "code",
   "execution_count": null,
   "id": "f81446da",
   "metadata": {
    "slideshow": {
     "slide_type": "fragment"
    }
   },
   "outputs": [],
   "source": [
    "{\n",
    " ...\n",
    " \"rise\": {\"theme\": \"sky\"}\n",
    "}\n"
   ]
  },
  {
   "cell_type": "markdown",
   "id": "9f56f97a",
   "metadata": {
    "slideshow": {
     "slide_type": "slide"
    }
   },
   "source": [
    "# Loading Modules"
   ]
  },
  {
   "cell_type": "code",
   "execution_count": null,
   "id": "3e422e74",
   "metadata": {
    "slideshow": {
     "slide_type": "subslide"
    }
   },
   "outputs": [],
   "source": [
    "import pandas as pd\n",
    "import numpy as np\n",
    "import math\n",
    "import seaborn as sns\n",
    "import pandas as pd\n",
    "\n",
    "from scipy import stats\n",
    "from matplotlib import pyplot as plt\n",
    "\n",
    "%matplotlib inline"
   ]
  },
  {
   "cell_type": "markdown",
   "id": "d90e8628",
   "metadata": {
    "slideshow": {
     "slide_type": "slide"
    }
   },
   "source": [
    "# Loading Dataset\n"
   ]
  },
  {
   "cell_type": "code",
   "execution_count": null,
   "id": "a2c12b5c",
   "metadata": {
    "slideshow": {
     "slide_type": "subslide"
    }
   },
   "outputs": [],
   "source": [
    "names = [\"CRIM\", \"ZN\", \"INDUS\", \"CHAS\", \"NOX\", \"RM\", \"AGE\", \"DIS\", \"RAD\", \"TAX\", \"PTRATIO\", \"B\", \"LSTAT\", \"MEDV\"]\n",
    "data = pd.read_csv(\"/home/gaio/Documents/GitHub/iod-linux/DATA/housing.data\", header=None, names=names, delim_whitespace=True)"
   ]
  },
  {
   "cell_type": "markdown",
   "id": "149d2adf",
   "metadata": {
    "slideshow": {
     "slide_type": "slide"
    }
   },
   "source": [
    "# Head"
   ]
  },
  {
   "cell_type": "code",
   "execution_count": null,
   "id": "ee04034f",
   "metadata": {
    "slideshow": {
     "slide_type": "subslide"
    }
   },
   "outputs": [],
   "source": [
    "data.head()"
   ]
  },
  {
   "cell_type": "code",
   "execution_count": null,
   "id": "51511afa",
   "metadata": {
    "slideshow": {
     "slide_type": "slide"
    }
   },
   "outputs": [],
   "source": [
    "data.shape"
   ]
  },
  {
   "cell_type": "code",
   "execution_count": null,
   "id": "b7efbd53",
   "metadata": {
    "slideshow": {
     "slide_type": "slide"
    }
   },
   "outputs": [],
   "source": [
    "# Data Analysis"
   ]
  },
  {
   "cell_type": "code",
   "execution_count": null,
   "id": "99b2dd9e",
   "metadata": {
    "slideshow": {
     "slide_type": "subslide"
    }
   },
   "outputs": [],
   "source": [
    "data.hist(column='RM')\n",
    "\n",
    "plt.title('Room Value ')\n",
    "plt.show()"
   ]
  },
  {
   "cell_type": "code",
   "execution_count": null,
   "id": "77f1a328",
   "metadata": {
    "slideshow": {
     "slide_type": "subslide"
    }
   },
   "outputs": [],
   "source": [
    "data.hist(column='MEDV')\n",
    "plt.title('Median Value')\n",
    "plt.show()"
   ]
  },
  {
   "cell_type": "code",
   "execution_count": null,
   "id": "751621e9",
   "metadata": {
    "slideshow": {
     "slide_type": "subslide"
    }
   },
   "outputs": [],
   "source": [
    "sns.lmplot(x='RM', y='MEDV', data=data );"
   ]
  },
  {
   "cell_type": "markdown",
   "id": "e871813f",
   "metadata": {
    "slideshow": {
     "slide_type": "slide"
    }
   },
   "source": [
    "# Define Hypotesis"
   ]
  },
  {
   "cell_type": "markdown",
   "id": "9d0f7192",
   "metadata": {
    "slideshow": {
     "slide_type": "subslide"
    }
   },
   "source": [
    "#### h0: there is no difference between distribution of 'Large house ' & 'Small house'\n"
   ]
  },
  {
   "cell_type": "markdown",
   "id": "aee87695",
   "metadata": {
    "slideshow": {
     "slide_type": "subslide"
    }
   },
   "source": [
    "#### h1: there is difference between distribution of 'Large house' & 'Small house'"
   ]
  },
  {
   "cell_type": "code",
   "execution_count": null,
   "id": "2887d36c",
   "metadata": {
    "slideshow": {
     "slide_type": "subslide"
    }
   },
   "outputs": [],
   "source": [
    "#alpha\n",
    "alpha=0.05"
   ]
  },
  {
   "cell_type": "markdown",
   "id": "4e26b190",
   "metadata": {
    "slideshow": {
     "slide_type": "slide"
    }
   },
   "source": [
    "# Set data samples:"
   ]
  },
  {
   "cell_type": "code",
   "execution_count": null,
   "id": "8c05d33b",
   "metadata": {
    "slideshow": {
     "slide_type": "subslide"
    }
   },
   "outputs": [],
   "source": [
    "seed=42\n",
    "medv_over_6 = data[data['RM']> 6]['MEDV'].sample(seed) # sample of a price for a house with more than 6 bedrooms\n",
    "print('set a sample of a price for a house with more than 6 bedrooms with a random seed of 42')\n",
    "\n",
    "medv_under_6 = data[data['RM']< 6 ]['MEDV'].sample(seed)\n",
    "print('set a sample of a price for a house with lesss than 6 bedrooms with a random seed of 42')\n"
   ]
  },
  {
   "cell_type": "markdown",
   "id": "e8b2362d",
   "metadata": {
    "slideshow": {
     "slide_type": "slide"
    }
   },
   "source": [
    "# Check the mean price value of a house with more than 6 bedroom and less than 6 bedrooms:"
   ]
  },
  {
   "cell_type": "code",
   "execution_count": 2,
   "id": "8e33a9d9",
   "metadata": {
    "slideshow": {
     "slide_type": "subslide"
    }
   },
   "outputs": [
    {
     "ename": "NameError",
     "evalue": "name 'medv_over_6' is not defined",
     "output_type": "error",
     "traceback": [
      "\u001b[0;31m---------------------------------------------------------------------------\u001b[0m",
      "\u001b[0;31mNameError\u001b[0m                                 Traceback (most recent call last)",
      "Input \u001b[0;32mIn [2]\u001b[0m, in \u001b[0;36m<cell line: 1>\u001b[0;34m()\u001b[0m\n\u001b[0;32m----> 1\u001b[0m \u001b[38;5;28mprint\u001b[39m(\u001b[38;5;124m\"\u001b[39m\u001b[38;5;124mthe average price of a house over 6 bedroom is\u001b[39m\u001b[38;5;124m\"\u001b[39m,\u001b[43mmedv_over_6\u001b[49m\u001b[38;5;241m.\u001b[39mmean())\n\u001b[1;32m      2\u001b[0m \u001b[38;5;28mprint\u001b[39m(\u001b[38;5;124m'\u001b[39m\u001b[38;5;124mthe average price of a house under 6 bedroom is\u001b[39m\u001b[38;5;124m'\u001b[39m, medv_under_6\u001b[38;5;241m.\u001b[39mmean())\n",
      "\u001b[0;31mNameError\u001b[0m: name 'medv_over_6' is not defined"
     ]
    }
   ],
   "source": [
    "print(\"the average price of a house over 6 bedroom is\",medv_over_6.mean())\n",
    "print('the average price of a house under 6 bedroom is', medv_under_6.mean())"
   ]
  },
  {
   "cell_type": "code",
   "execution_count": null,
   "id": "4b56e6f7",
   "metadata": {
    "slideshow": {
     "slide_type": "subslide"
    }
   },
   "outputs": [],
   "source": [
    "ax = sns.histplot(medv_over_6, label = 'Large House', kde= False);\n",
    "sns.histplot(medv_under_6,ax= ax , label = 'small House', kde= False);\n",
    "plt.legend(loc= 'upper right');\n",
    "\n",
    "plt.xlabel('median price house value')\n",
    "plt.ylabel('Number of houses')\n",
    "plt.show()\n"
   ]
  },
  {
   "cell_type": "markdown",
   "id": "77fcc029",
   "metadata": {
    "slideshow": {
     "slide_type": "slide"
    }
   },
   "source": [
    "### Check H0 versus H1:"
   ]
  },
  {
   "cell_type": "code",
   "execution_count": null,
   "id": "0005b3b5",
   "metadata": {
    "slideshow": {
     "slide_type": "subslide"
    }
   },
   "outputs": [],
   "source": [
    " print('the t and the p values are=',stats.ttest_ind(medv_over_6, medv_under_6))"
   ]
  },
  {
   "cell_type": "code",
   "execution_count": null,
   "id": "365f2a98",
   "metadata": {},
   "outputs": [],
   "source": [
    "def print_sig(p_value, alpha):\n",
    "    if p_value < alpha:\n",
    "        print(\"We reject our null hypothesis.\")\n",
    "    elif p_value > alpha:\n",
    "        print(\"We fail to reject our null hypothesis.\")\n",
    "    else:\n",
    "        print(\"Our test is inconclusive.\")"
   ]
  },
  {
   "cell_type": "code",
   "execution_count": null,
   "id": "e522cebf",
   "metadata": {},
   "outputs": [],
   "source": []
  },
  {
   "cell_type": "code",
   "execution_count": null,
   "id": "d31d61f2",
   "metadata": {},
   "outputs": [],
   "source": []
  }
 ],
 "metadata": {
  "celltoolbar": "Slideshow",
  "kernelspec": {
   "display_name": "Python 3 (ipykernel)",
   "language": "python",
   "name": "python3"
  },
  "language_info": {
   "codemirror_mode": {
    "name": "ipython",
    "version": 3
   },
   "file_extension": ".py",
   "mimetype": "text/x-python",
   "name": "python",
   "nbconvert_exporter": "python",
   "pygments_lexer": "ipython3",
   "version": "3.9.13"
  }
 },
 "nbformat": 4,
 "nbformat_minor": 5
}
