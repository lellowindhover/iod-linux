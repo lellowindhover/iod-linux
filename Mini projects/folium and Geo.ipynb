{
 "cells": [
  {
   "cell_type": "markdown",
   "id": "05f8842b",
   "metadata": {},
   "source": [
    "Data-Analysis/Maps/folium and Geo\n"
   ]
  },
  {
   "cell_type": "code",
   "execution_count": null,
   "id": "c398812a",
   "metadata": {},
   "outputs": [],
   "source": []
  }
 ],
 "metadata": {
  "kernelspec": {
   "display_name": "Python 3 (ipykernel)",
   "language": "python",
   "name": "python3"
  },
  "language_info": {
   "codemirror_mode": {
    "name": "ipython",
    "version": 3
   },
   "file_extension": ".py",
   "mimetype": "text/x-python",
   "name": "python",
   "nbconvert_exporter": "python",
   "pygments_lexer": "ipython3",
   "version": "3.9.13"
  }
 },
 "nbformat": 4,
 "nbformat_minor": 5
}
