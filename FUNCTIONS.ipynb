{
 "cells": [
  {
   "cell_type": "code",
   "execution_count": 1,
   "id": "1581f348",
   "metadata": {},
   "outputs": [],
   "source": [
    "import numpy as np"
   ]
  },
  {
   "cell_type": "code",
   "execution_count": 4,
   "id": "7f57e87c",
   "metadata": {},
   "outputs": [
    {
     "name": "stdout",
     "output_type": "stream",
     "text": [
      "hello jack\n",
      "how do you do\n"
     ]
    }
   ],
   "source": [
    "def greet(name):\n",
    "    print('hello',name)\n",
    "    return\n",
    "    print('how do you do')\n",
    "    \n",
    "greet('jack')    \n"
   ]
  },
  {
   "cell_type": "code",
   "execution_count": 6,
   "id": "73a94c72",
   "metadata": {},
   "outputs": [
    {
     "name": "stdout",
     "output_type": "stream",
     "text": [
      "the sum is  12.100000000000001\n"
     ]
    }
   ],
   "source": [
    "def add_numbers(n1,n2):\n",
    "    result = n1+n2\n",
    "    return result\n",
    "number1 = 5.4\n",
    "number2 = 6.7\n",
    "result=add_numbers(number1, number2)    \n",
    "print('the sum is', result)    "
   ]
  },
  {
   "cell_type": "code",
   "execution_count": 9,
   "id": "92a0aa54",
   "metadata": {},
   "outputs": [
    {
     "name": "stdout",
     "output_type": "stream",
     "text": [
      "length is 5\n",
      "the total maks you got is 308\n"
     ]
    }
   ],
   "source": [
    "marks = [55,64,75,80,34]\n",
    "length = len(marks)\n",
    "print('length is', length)\n",
    "marks_sum = sum(marks)\n",
    "print('the total maks you got is', marks_sum)"
   ]
  },
  {
   "cell_type": "code",
   "execution_count": 15,
   "id": "5936f110",
   "metadata": {},
   "outputs": [
    {
     "name": "stdout",
     "output_type": "stream",
     "text": [
      "your average marks is: 67.8\n",
      "your grade is: B\n"
     ]
    }
   ],
   "source": [
    "#function to find average marks\n",
    "def find_average_marks(marks):\n",
    "    sum_of_marks = sum(marks)\n",
    "    total_subjects = len(marks)\n",
    "    average_marks = sum_of_marks / total_subjects\n",
    "    return average_marks\n",
    "#calculate the grade and return it\n",
    "def compute_grade(average_marks):\n",
    "    if average_marks >=80:\n",
    "        grade = 'A'\n",
    "    elif average_marks  >= 60:\n",
    "        grade = 'B'\n",
    "    elif average_marks >= 50 :\n",
    "        grade = 'C'\n",
    "    else:\n",
    "        grade = 'F'\n",
    "    return grade\n",
    "    \n",
    "    \n",
    "marks = [55,64,75,80,65]\n",
    "average_marks = find_average_marks(marks)\n",
    "print('your average marks is:',average_marks)\n",
    "\n",
    "grade = compute_grade(average_marks)\n",
    "print('your grade is:', grade)"
   ]
  },
  {
   "cell_type": "code",
   "execution_count": 18,
   "id": "9baddd2c",
   "metadata": {},
   "outputs": [
    {
     "name": "stdout",
     "output_type": "stream",
     "text": [
      "9\n"
     ]
    }
   ],
   "source": [
    "def add_numbers(n1, n2):\n",
    "    result = n1+n2\n",
    "    return result\n",
    "n1= 5\n",
    "n2= 4\n",
    "result = n1+n2\n",
    "print(result)"
   ]
  },
  {
   "cell_type": "code",
   "execution_count": 20,
   "id": "8fcae01c",
   "metadata": {},
   "outputs": [
    {
     "name": "stdout",
     "output_type": "stream",
     "text": [
      "20\n"
     ]
    }
   ],
   "source": [
    "def multiply_numbers(n1,n2):\n",
    "    result = n18n2\n",
    "n1 = 5\n",
    "n2 = 4\n",
    "result = n1*n2 \n",
    "print(result)\n"
   ]
  },
  {
   "cell_type": "code",
   "execution_count": null,
   "id": "b0a594ff",
   "metadata": {},
   "outputs": [],
   "source": []
  }
 ],
 "metadata": {
  "kernelspec": {
   "display_name": "Python 3 (ipykernel)",
   "language": "python",
   "name": "python3"
  },
  "language_info": {
   "codemirror_mode": {
    "name": "ipython",
    "version": 3
   },
   "file_extension": ".py",
   "mimetype": "text/x-python",
   "name": "python",
   "nbconvert_exporter": "python",
   "pygments_lexer": "ipython3",
   "version": "3.9.13"
  }
 },
 "nbformat": 4,
 "nbformat_minor": 5
}
