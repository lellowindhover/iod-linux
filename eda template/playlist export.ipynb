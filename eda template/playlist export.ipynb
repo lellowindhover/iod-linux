{
 "cells": [
  {
   "cell_type": "code",
   "execution_count": 1,
   "id": "90639985",
   "metadata": {},
   "outputs": [],
   "source": [
    "import pandas as pd"
   ]
  },
  {
   "cell_type": "code",
   "execution_count": 2,
   "id": "9f61bff2",
   "metadata": {},
   "outputs": [],
   "source": [
    "import numpy as np"
   ]
  },
  {
   "cell_type": "code",
   "execution_count": 3,
   "id": "52ed5852",
   "metadata": {},
   "outputs": [],
   "source": [
    "import seaborn as sns"
   ]
  },
  {
   "cell_type": "code",
   "execution_count": 4,
   "id": "88e40163",
   "metadata": {},
   "outputs": [],
   "source": [
    "df=pd.read_csv('/home/gaio/.var/app/com.github.marinm.songrec/data/songrec/song_history.csv')"
   ]
  },
  {
   "cell_type": "code",
   "execution_count": 5,
   "id": "0e264b1c",
   "metadata": {},
   "outputs": [
    {
     "data": {
      "text/html": [
       "<div>\n",
       "<style scoped>\n",
       "    .dataframe tbody tr th:only-of-type {\n",
       "        vertical-align: middle;\n",
       "    }\n",
       "\n",
       "    .dataframe tbody tr th {\n",
       "        vertical-align: top;\n",
       "    }\n",
       "\n",
       "    .dataframe thead th {\n",
       "        text-align: right;\n",
       "    }\n",
       "</style>\n",
       "<table border=\"1\" class=\"dataframe\">\n",
       "  <thead>\n",
       "    <tr style=\"text-align: right;\">\n",
       "      <th></th>\n",
       "      <th>song_name</th>\n",
       "      <th>album</th>\n",
       "      <th>recognition_date</th>\n",
       "      <th>track_key</th>\n",
       "      <th>release_year</th>\n",
       "      <th>genre</th>\n",
       "    </tr>\n",
       "  </thead>\n",
       "  <tbody>\n",
       "    <tr>\n",
       "      <th>0</th>\n",
       "      <td>Leon Switch &amp; Truth - Silhouette (feat. Lelijv...</td>\n",
       "      <td>Staying Human - EP</td>\n",
       "      <td>Thu Nov 10 13:51:22 2022</td>\n",
       "      <td>356162206</td>\n",
       "      <td>2017.0</td>\n",
       "      <td>Dance</td>\n",
       "    </tr>\n",
       "    <tr>\n",
       "      <th>1</th>\n",
       "      <td>Foreign Concept - When You're Alone (Lsb Remix...</td>\n",
       "      <td>Skit City - EP</td>\n",
       "      <td>Sat Nov 12 09:34:52 2022</td>\n",
       "      <td>343963949</td>\n",
       "      <td>2017.0</td>\n",
       "      <td>Dance</td>\n",
       "    </tr>\n",
       "    <tr>\n",
       "      <th>2</th>\n",
       "      <td>voltsss - Anymore!</td>\n",
       "      <td>Eyes Wide Open!</td>\n",
       "      <td>Sat Nov 12 09:35:36 2022</td>\n",
       "      <td>586227041</td>\n",
       "      <td>2021.0</td>\n",
       "      <td>Hip-Hop/Rap</td>\n",
       "    </tr>\n",
       "    <tr>\n",
       "      <th>3</th>\n",
       "      <td>Foreign Concept - When You're Alone (Lsb Remix...</td>\n",
       "      <td>Skit City - EP</td>\n",
       "      <td>Sat Nov 12 09:35:40 2022</td>\n",
       "      <td>343963949</td>\n",
       "      <td>2017.0</td>\n",
       "      <td>Dance</td>\n",
       "    </tr>\n",
       "    <tr>\n",
       "      <th>4</th>\n",
       "      <td>Claude Kelly - Forever</td>\n",
       "      <td>Forever - Single</td>\n",
       "      <td>Sat Nov 12 09:37:12 2022</td>\n",
       "      <td>469845139</td>\n",
       "      <td>2022.0</td>\n",
       "      <td>Blues</td>\n",
       "    </tr>\n",
       "  </tbody>\n",
       "</table>\n",
       "</div>"
      ],
      "text/plain": [
       "                                           song_name               album  \\\n",
       "0  Leon Switch & Truth - Silhouette (feat. Lelijv...  Staying Human - EP   \n",
       "1  Foreign Concept - When You're Alone (Lsb Remix...      Skit City - EP   \n",
       "2                                 voltsss - Anymore!     Eyes Wide Open!   \n",
       "3  Foreign Concept - When You're Alone (Lsb Remix...      Skit City - EP   \n",
       "4                             Claude Kelly - Forever    Forever - Single   \n",
       "\n",
       "           recognition_date  track_key  release_year        genre  \n",
       "0  Thu Nov 10 13:51:22 2022  356162206        2017.0        Dance  \n",
       "1  Sat Nov 12 09:34:52 2022  343963949        2017.0        Dance  \n",
       "2  Sat Nov 12 09:35:36 2022  586227041        2021.0  Hip-Hop/Rap  \n",
       "3  Sat Nov 12 09:35:40 2022  343963949        2017.0        Dance  \n",
       "4  Sat Nov 12 09:37:12 2022  469845139        2022.0        Blues  "
      ]
     },
     "execution_count": 5,
     "metadata": {},
     "output_type": "execute_result"
    }
   ],
   "source": [
    "df.head()"
   ]
  },
  {
   "cell_type": "code",
   "execution_count": 6,
   "id": "ac65ee0e",
   "metadata": {},
   "outputs": [
    {
     "data": {
      "text/plain": [
       "(134, 6)"
      ]
     },
     "execution_count": 6,
     "metadata": {},
     "output_type": "execute_result"
    }
   ],
   "source": [
    "df.shape"
   ]
  },
  {
   "cell_type": "code",
   "execution_count": 7,
   "id": "ba8cfffa",
   "metadata": {},
   "outputs": [
    {
     "name": "stdout",
     "output_type": "stream",
     "text": [
      "<class 'pandas.core.frame.DataFrame'>\n",
      "RangeIndex: 134 entries, 0 to 133\n",
      "Data columns (total 6 columns):\n",
      " #   Column            Non-Null Count  Dtype  \n",
      "---  ------            --------------  -----  \n",
      " 0   song_name         134 non-null    object \n",
      " 1   album             105 non-null    object \n",
      " 2   recognition_date  134 non-null    object \n",
      " 3   track_key         134 non-null    int64  \n",
      " 4   release_year      105 non-null    float64\n",
      " 5   genre             118 non-null    object \n",
      "dtypes: float64(1), int64(1), object(4)\n",
      "memory usage: 6.4+ KB\n"
     ]
    }
   ],
   "source": [
    "df.info()"
   ]
  },
  {
   "cell_type": "code",
   "execution_count": 8,
   "id": "990c6436",
   "metadata": {},
   "outputs": [
    {
     "data": {
      "text/plain": [
       "song_name            0\n",
       "album               29\n",
       "recognition_date     0\n",
       "track_key            0\n",
       "release_year        29\n",
       "genre               16\n",
       "dtype: int64"
      ]
     },
     "execution_count": 8,
     "metadata": {},
     "output_type": "execute_result"
    }
   ],
   "source": [
    "df.isnull().sum()"
   ]
  },
  {
   "cell_type": "code",
   "execution_count": 9,
   "id": "2b4bdd4e",
   "metadata": {},
   "outputs": [],
   "source": [
    "# divide artis and title\n",
    "df['artist']=df['song_name'].apply(lambda x: x.split('-')[0])\n",
    "df['title']=df['song_name'].apply(lambda x: ' '.join(x.split('-')[1:]))"
   ]
  },
  {
   "cell_type": "code",
   "execution_count": 10,
   "id": "850d6ac6",
   "metadata": {},
   "outputs": [
    {
     "data": {
      "text/html": [
       "<div>\n",
       "<style scoped>\n",
       "    .dataframe tbody tr th:only-of-type {\n",
       "        vertical-align: middle;\n",
       "    }\n",
       "\n",
       "    .dataframe tbody tr th {\n",
       "        vertical-align: top;\n",
       "    }\n",
       "\n",
       "    .dataframe thead th {\n",
       "        text-align: right;\n",
       "    }\n",
       "</style>\n",
       "<table border=\"1\" class=\"dataframe\">\n",
       "  <thead>\n",
       "    <tr style=\"text-align: right;\">\n",
       "      <th></th>\n",
       "      <th>song_name</th>\n",
       "      <th>album</th>\n",
       "      <th>recognition_date</th>\n",
       "      <th>track_key</th>\n",
       "      <th>release_year</th>\n",
       "      <th>genre</th>\n",
       "      <th>artist</th>\n",
       "      <th>title</th>\n",
       "    </tr>\n",
       "  </thead>\n",
       "  <tbody>\n",
       "    <tr>\n",
       "      <th>0</th>\n",
       "      <td>Leon Switch &amp; Truth - Silhouette (feat. Lelijv...</td>\n",
       "      <td>Staying Human - EP</td>\n",
       "      <td>Thu Nov 10 13:51:22 2022</td>\n",
       "      <td>356162206</td>\n",
       "      <td>2017.0</td>\n",
       "      <td>Dance</td>\n",
       "      <td>Leon Switch &amp; Truth</td>\n",
       "      <td>Silhouette (feat. Lelijveld)</td>\n",
       "    </tr>\n",
       "    <tr>\n",
       "      <th>1</th>\n",
       "      <td>Foreign Concept - When You're Alone (Lsb Remix...</td>\n",
       "      <td>Skit City - EP</td>\n",
       "      <td>Sat Nov 12 09:34:52 2022</td>\n",
       "      <td>343963949</td>\n",
       "      <td>2017.0</td>\n",
       "      <td>Dance</td>\n",
       "      <td>Foreign Concept</td>\n",
       "      <td>When You're Alone (Lsb Remix) [feat. LSB]</td>\n",
       "    </tr>\n",
       "    <tr>\n",
       "      <th>2</th>\n",
       "      <td>voltsss - Anymore!</td>\n",
       "      <td>Eyes Wide Open!</td>\n",
       "      <td>Sat Nov 12 09:35:36 2022</td>\n",
       "      <td>586227041</td>\n",
       "      <td>2021.0</td>\n",
       "      <td>Hip-Hop/Rap</td>\n",
       "      <td>voltsss</td>\n",
       "      <td>Anymore!</td>\n",
       "    </tr>\n",
       "    <tr>\n",
       "      <th>3</th>\n",
       "      <td>Foreign Concept - When You're Alone (Lsb Remix...</td>\n",
       "      <td>Skit City - EP</td>\n",
       "      <td>Sat Nov 12 09:35:40 2022</td>\n",
       "      <td>343963949</td>\n",
       "      <td>2017.0</td>\n",
       "      <td>Dance</td>\n",
       "      <td>Foreign Concept</td>\n",
       "      <td>When You're Alone (Lsb Remix) [feat. LSB]</td>\n",
       "    </tr>\n",
       "    <tr>\n",
       "      <th>4</th>\n",
       "      <td>Claude Kelly - Forever</td>\n",
       "      <td>Forever - Single</td>\n",
       "      <td>Sat Nov 12 09:37:12 2022</td>\n",
       "      <td>469845139</td>\n",
       "      <td>2022.0</td>\n",
       "      <td>Blues</td>\n",
       "      <td>Claude Kelly</td>\n",
       "      <td>Forever</td>\n",
       "    </tr>\n",
       "  </tbody>\n",
       "</table>\n",
       "</div>"
      ],
      "text/plain": [
       "                                           song_name               album  \\\n",
       "0  Leon Switch & Truth - Silhouette (feat. Lelijv...  Staying Human - EP   \n",
       "1  Foreign Concept - When You're Alone (Lsb Remix...      Skit City - EP   \n",
       "2                                 voltsss - Anymore!     Eyes Wide Open!   \n",
       "3  Foreign Concept - When You're Alone (Lsb Remix...      Skit City - EP   \n",
       "4                             Claude Kelly - Forever    Forever - Single   \n",
       "\n",
       "           recognition_date  track_key  release_year        genre  \\\n",
       "0  Thu Nov 10 13:51:22 2022  356162206        2017.0        Dance   \n",
       "1  Sat Nov 12 09:34:52 2022  343963949        2017.0        Dance   \n",
       "2  Sat Nov 12 09:35:36 2022  586227041        2021.0  Hip-Hop/Rap   \n",
       "3  Sat Nov 12 09:35:40 2022  343963949        2017.0        Dance   \n",
       "4  Sat Nov 12 09:37:12 2022  469845139        2022.0        Blues   \n",
       "\n",
       "                 artist                                       title  \n",
       "0  Leon Switch & Truth                 Silhouette (feat. Lelijveld)  \n",
       "1      Foreign Concept    When You're Alone (Lsb Remix) [feat. LSB]  \n",
       "2              voltsss                                     Anymore!  \n",
       "3      Foreign Concept    When You're Alone (Lsb Remix) [feat. LSB]  \n",
       "4         Claude Kelly                                      Forever  "
      ]
     },
     "execution_count": 10,
     "metadata": {},
     "output_type": "execute_result"
    }
   ],
   "source": [
    "df.head()"
   ]
  },
  {
   "cell_type": "code",
   "execution_count": 14,
   "id": "748cb22a",
   "metadata": {},
   "outputs": [
    {
     "name": "stdout",
     "output_type": "stream",
     "text": [
      "<class 'pandas.core.frame.DataFrame'>\n",
      "RangeIndex: 134 entries, 0 to 133\n",
      "Data columns (total 8 columns):\n",
      " #   Column            Non-Null Count  Dtype  \n",
      "---  ------            --------------  -----  \n",
      " 0   song_name         134 non-null    object \n",
      " 1   album             105 non-null    object \n",
      " 2   recognition_date  134 non-null    object \n",
      " 3   track_key         134 non-null    int64  \n",
      " 4   release_year      105 non-null    float64\n",
      " 5   genre             118 non-null    object \n",
      " 6   artist            134 non-null    object \n",
      " 7   title             134 non-null    object \n",
      "dtypes: float64(1), int64(1), object(6)\n",
      "memory usage: 8.5+ KB\n"
     ]
    }
   ],
   "source": [
    "df.info()"
   ]
  },
  {
   "cell_type": "code",
   "execution_count": 23,
   "id": "601f4162",
   "metadata": {},
   "outputs": [
    {
     "data": {
      "text/plain": [
       "Red Hot Chili Peppers                        10\n",
       "Paul Oakenfold                                9\n",
       "Morillo                                       7\n",
       "J Balvin & Willy William                      5\n",
       "Dirk Maassen                                  5\n",
       "                                             ..\n",
       "Jolyon Petch                                  1\n",
       "Spa Mind Body                                 1\n",
       "Tangerine Dream                               1\n",
       "J Balvin, Willy William & Dillon Francis      1\n",
       "Dj Darroo                                     1\n",
       "Name: artist, Length: 70, dtype: int64"
      ]
     },
     "execution_count": 23,
     "metadata": {},
     "output_type": "execute_result"
    }
   ],
   "source": [
    "df['artist'].value_counts()"
   ]
  },
  {
   "cell_type": "code",
   "execution_count": 18,
   "id": "d3aa39f9",
   "metadata": {},
   "outputs": [
    {
     "data": {
      "text/plain": [
       "(134, 8)"
      ]
     },
     "execution_count": 18,
     "metadata": {},
     "output_type": "execute_result"
    }
   ],
   "source": [
    "df.shape"
   ]
  },
  {
   "cell_type": "code",
   "execution_count": 24,
   "id": "c4cabe7f",
   "metadata": {},
   "outputs": [
    {
     "data": {
      "text/plain": [
       "Dance                  34\n",
       "Electronic             19\n",
       "House                  12\n",
       "Latin Urban             8\n",
       "Alternative             8\n",
       "Classical               4\n",
       "New Age                 4\n",
       "Bass                    3\n",
       "Brazilian               3\n",
       "Vocal                   2\n",
       "Classical Crossover     2\n",
       "Instrumental            2\n",
       "Piano                   2\n",
       "Pop                     2\n",
       "Mandopop                2\n",
       "Techno                  1\n",
       "Blues                   1\n",
       "Disco                   1\n",
       "Contemporary Era        1\n",
       "Children's Music        1\n",
       "Jazz                    1\n",
       "Hip-Hop/Rap             1\n",
       "Religious               1\n",
       "Breakbeat               1\n",
       "Christian & Gospel      1\n",
       "Trance                  1\n",
       "Name: genre, dtype: int64"
      ]
     },
     "execution_count": 24,
     "metadata": {},
     "output_type": "execute_result"
    }
   ],
   "source": [
    "df['genre'].value_counts()"
   ]
  },
  {
   "cell_type": "code",
   "execution_count": 25,
   "id": "1ba4ddf6",
   "metadata": {},
   "outputs": [
    {
     "data": {
      "text/plain": [
       "Otherside - Single                                   10\n",
       "Californication                                       8\n",
       "Colibri                                               7\n",
       "Body (feat. brando) - Single                          4\n",
       "Skit City - EP                                        4\n",
       "                                                     ..\n",
       "We Are Planet Perfecto, Vol. 5 - Back To My House     1\n",
       "Recurring Dreams                                      1\n",
       "Mi Gente (F4st, Velza & Loudness Remix) - Single      1\n",
       "Neon Jungle                                           1\n",
       "Harder Trance                                         1\n",
       "Name: album, Length: 62, dtype: int64"
      ]
     },
     "execution_count": 25,
     "metadata": {},
     "output_type": "execute_result"
    }
   ],
   "source": [
    "df['album'].value_counts()"
   ]
  },
  {
   "cell_type": "code",
   "execution_count": 36,
   "id": "709d000e",
   "metadata": {},
   "outputs": [],
   "source": [
    "def album_download(row):\n",
    "    print('title:', row['title'])\n",
    "    print('artist:', row['artist'])\n",
    "    print('\\n')"
   ]
  },
  {
   "cell_type": "code",
   "execution_count": 37,
   "id": "b008b32b",
   "metadata": {},
   "outputs": [
    {
     "name": "stdout",
     "output_type": "stream",
     "text": [
      "title:  Silhouette (feat. Lelijveld)\n",
      "artist: Leon Switch & Truth \n",
      "\n",
      "\n"
     ]
    }
   ],
   "source": [
    "album_download(df.iloc[0])"
   ]
  },
  {
   "cell_type": "code",
   "execution_count": 29,
   "id": "85b7fc08",
   "metadata": {},
   "outputs": [
    {
     "data": {
      "text/html": [
       "<div>\n",
       "<style scoped>\n",
       "    .dataframe tbody tr th:only-of-type {\n",
       "        vertical-align: middle;\n",
       "    }\n",
       "\n",
       "    .dataframe tbody tr th {\n",
       "        vertical-align: top;\n",
       "    }\n",
       "\n",
       "    .dataframe thead th {\n",
       "        text-align: right;\n",
       "    }\n",
       "</style>\n",
       "<table border=\"1\" class=\"dataframe\">\n",
       "  <thead>\n",
       "    <tr style=\"text-align: right;\">\n",
       "      <th></th>\n",
       "      <th>song_name</th>\n",
       "      <th>album</th>\n",
       "      <th>recognition_date</th>\n",
       "      <th>track_key</th>\n",
       "      <th>release_year</th>\n",
       "      <th>genre</th>\n",
       "      <th>artist</th>\n",
       "      <th>title</th>\n",
       "    </tr>\n",
       "  </thead>\n",
       "  <tbody>\n",
       "    <tr>\n",
       "      <th>0</th>\n",
       "      <td>Leon Switch &amp; Truth - Silhouette (feat. Lelijv...</td>\n",
       "      <td>Staying Human - EP</td>\n",
       "      <td>Thu Nov 10 13:51:22 2022</td>\n",
       "      <td>356162206</td>\n",
       "      <td>2017.0</td>\n",
       "      <td>Dance</td>\n",
       "      <td>Leon Switch &amp; Truth</td>\n",
       "      <td>Silhouette (feat. Lelijveld)</td>\n",
       "    </tr>\n",
       "    <tr>\n",
       "      <th>1</th>\n",
       "      <td>Foreign Concept - When You're Alone (Lsb Remix...</td>\n",
       "      <td>Skit City - EP</td>\n",
       "      <td>Sat Nov 12 09:34:52 2022</td>\n",
       "      <td>343963949</td>\n",
       "      <td>2017.0</td>\n",
       "      <td>Dance</td>\n",
       "      <td>Foreign Concept</td>\n",
       "      <td>When You're Alone (Lsb Remix) [feat. LSB]</td>\n",
       "    </tr>\n",
       "    <tr>\n",
       "      <th>2</th>\n",
       "      <td>voltsss - Anymore!</td>\n",
       "      <td>Eyes Wide Open!</td>\n",
       "      <td>Sat Nov 12 09:35:36 2022</td>\n",
       "      <td>586227041</td>\n",
       "      <td>2021.0</td>\n",
       "      <td>Hip-Hop/Rap</td>\n",
       "      <td>voltsss</td>\n",
       "      <td>Anymore!</td>\n",
       "    </tr>\n",
       "    <tr>\n",
       "      <th>3</th>\n",
       "      <td>Foreign Concept - When You're Alone (Lsb Remix...</td>\n",
       "      <td>Skit City - EP</td>\n",
       "      <td>Sat Nov 12 09:35:40 2022</td>\n",
       "      <td>343963949</td>\n",
       "      <td>2017.0</td>\n",
       "      <td>Dance</td>\n",
       "      <td>Foreign Concept</td>\n",
       "      <td>When You're Alone (Lsb Remix) [feat. LSB]</td>\n",
       "    </tr>\n",
       "    <tr>\n",
       "      <th>4</th>\n",
       "      <td>Claude Kelly - Forever</td>\n",
       "      <td>Forever - Single</td>\n",
       "      <td>Sat Nov 12 09:37:12 2022</td>\n",
       "      <td>469845139</td>\n",
       "      <td>2022.0</td>\n",
       "      <td>Blues</td>\n",
       "      <td>Claude Kelly</td>\n",
       "      <td>Forever</td>\n",
       "    </tr>\n",
       "  </tbody>\n",
       "</table>\n",
       "</div>"
      ],
      "text/plain": [
       "                                           song_name               album  \\\n",
       "0  Leon Switch & Truth - Silhouette (feat. Lelijv...  Staying Human - EP   \n",
       "1  Foreign Concept - When You're Alone (Lsb Remix...      Skit City - EP   \n",
       "2                                 voltsss - Anymore!     Eyes Wide Open!   \n",
       "3  Foreign Concept - When You're Alone (Lsb Remix...      Skit City - EP   \n",
       "4                             Claude Kelly - Forever    Forever - Single   \n",
       "\n",
       "           recognition_date  track_key  release_year        genre  \\\n",
       "0  Thu Nov 10 13:51:22 2022  356162206        2017.0        Dance   \n",
       "1  Sat Nov 12 09:34:52 2022  343963949        2017.0        Dance   \n",
       "2  Sat Nov 12 09:35:36 2022  586227041        2021.0  Hip-Hop/Rap   \n",
       "3  Sat Nov 12 09:35:40 2022  343963949        2017.0        Dance   \n",
       "4  Sat Nov 12 09:37:12 2022  469845139        2022.0        Blues   \n",
       "\n",
       "                 artist                                       title  \n",
       "0  Leon Switch & Truth                 Silhouette (feat. Lelijveld)  \n",
       "1      Foreign Concept    When You're Alone (Lsb Remix) [feat. LSB]  \n",
       "2              voltsss                                     Anymore!  \n",
       "3      Foreign Concept    When You're Alone (Lsb Remix) [feat. LSB]  \n",
       "4         Claude Kelly                                      Forever  "
      ]
     },
     "execution_count": 29,
     "metadata": {},
     "output_type": "execute_result"
    }
   ],
   "source": [
    "df.head()"
   ]
  },
  {
   "cell_type": "code",
   "execution_count": 38,
   "id": "d42ec649",
   "metadata": {},
   "outputs": [
    {
     "name": "stdout",
     "output_type": "stream",
     "text": [
      "<class 'pandas.core.frame.DataFrame'>\n",
      "RangeIndex: 134 entries, 0 to 133\n",
      "Data columns (total 8 columns):\n",
      " #   Column            Non-Null Count  Dtype  \n",
      "---  ------            --------------  -----  \n",
      " 0   song_name         134 non-null    object \n",
      " 1   album             105 non-null    object \n",
      " 2   recognition_date  134 non-null    object \n",
      " 3   track_key         134 non-null    int64  \n",
      " 4   release_year      105 non-null    float64\n",
      " 5   genre             118 non-null    object \n",
      " 6   artist            134 non-null    object \n",
      " 7   title             134 non-null    object \n",
      "dtypes: float64(1), int64(1), object(6)\n",
      "memory usage: 8.5+ KB\n"
     ]
    }
   ],
   "source": [
    "df.info()"
   ]
  },
  {
   "cell_type": "code",
   "execution_count": 40,
   "id": "f8f2b660",
   "metadata": {},
   "outputs": [],
   "source": [
    "newdf= df.drop(['song_name'], axis=1)"
   ]
  },
  {
   "cell_type": "code",
   "execution_count": 41,
   "id": "af1d25bc",
   "metadata": {},
   "outputs": [
    {
     "data": {
      "text/html": [
       "<div>\n",
       "<style scoped>\n",
       "    .dataframe tbody tr th:only-of-type {\n",
       "        vertical-align: middle;\n",
       "    }\n",
       "\n",
       "    .dataframe tbody tr th {\n",
       "        vertical-align: top;\n",
       "    }\n",
       "\n",
       "    .dataframe thead th {\n",
       "        text-align: right;\n",
       "    }\n",
       "</style>\n",
       "<table border=\"1\" class=\"dataframe\">\n",
       "  <thead>\n",
       "    <tr style=\"text-align: right;\">\n",
       "      <th></th>\n",
       "      <th>album</th>\n",
       "      <th>recognition_date</th>\n",
       "      <th>track_key</th>\n",
       "      <th>release_year</th>\n",
       "      <th>genre</th>\n",
       "      <th>artist</th>\n",
       "      <th>title</th>\n",
       "    </tr>\n",
       "  </thead>\n",
       "  <tbody>\n",
       "    <tr>\n",
       "      <th>0</th>\n",
       "      <td>Staying Human - EP</td>\n",
       "      <td>Thu Nov 10 13:51:22 2022</td>\n",
       "      <td>356162206</td>\n",
       "      <td>2017.0</td>\n",
       "      <td>Dance</td>\n",
       "      <td>Leon Switch &amp; Truth</td>\n",
       "      <td>Silhouette (feat. Lelijveld)</td>\n",
       "    </tr>\n",
       "    <tr>\n",
       "      <th>1</th>\n",
       "      <td>Skit City - EP</td>\n",
       "      <td>Sat Nov 12 09:34:52 2022</td>\n",
       "      <td>343963949</td>\n",
       "      <td>2017.0</td>\n",
       "      <td>Dance</td>\n",
       "      <td>Foreign Concept</td>\n",
       "      <td>When You're Alone (Lsb Remix) [feat. LSB]</td>\n",
       "    </tr>\n",
       "    <tr>\n",
       "      <th>2</th>\n",
       "      <td>Eyes Wide Open!</td>\n",
       "      <td>Sat Nov 12 09:35:36 2022</td>\n",
       "      <td>586227041</td>\n",
       "      <td>2021.0</td>\n",
       "      <td>Hip-Hop/Rap</td>\n",
       "      <td>voltsss</td>\n",
       "      <td>Anymore!</td>\n",
       "    </tr>\n",
       "    <tr>\n",
       "      <th>3</th>\n",
       "      <td>Skit City - EP</td>\n",
       "      <td>Sat Nov 12 09:35:40 2022</td>\n",
       "      <td>343963949</td>\n",
       "      <td>2017.0</td>\n",
       "      <td>Dance</td>\n",
       "      <td>Foreign Concept</td>\n",
       "      <td>When You're Alone (Lsb Remix) [feat. LSB]</td>\n",
       "    </tr>\n",
       "    <tr>\n",
       "      <th>4</th>\n",
       "      <td>Forever - Single</td>\n",
       "      <td>Sat Nov 12 09:37:12 2022</td>\n",
       "      <td>469845139</td>\n",
       "      <td>2022.0</td>\n",
       "      <td>Blues</td>\n",
       "      <td>Claude Kelly</td>\n",
       "      <td>Forever</td>\n",
       "    </tr>\n",
       "  </tbody>\n",
       "</table>\n",
       "</div>"
      ],
      "text/plain": [
       "                album          recognition_date  track_key  release_year  \\\n",
       "0  Staying Human - EP  Thu Nov 10 13:51:22 2022  356162206        2017.0   \n",
       "1      Skit City - EP  Sat Nov 12 09:34:52 2022  343963949        2017.0   \n",
       "2     Eyes Wide Open!  Sat Nov 12 09:35:36 2022  586227041        2021.0   \n",
       "3      Skit City - EP  Sat Nov 12 09:35:40 2022  343963949        2017.0   \n",
       "4    Forever - Single  Sat Nov 12 09:37:12 2022  469845139        2022.0   \n",
       "\n",
       "         genre                artist  \\\n",
       "0        Dance  Leon Switch & Truth    \n",
       "1        Dance      Foreign Concept    \n",
       "2  Hip-Hop/Rap              voltsss    \n",
       "3        Dance      Foreign Concept    \n",
       "4        Blues         Claude Kelly    \n",
       "\n",
       "                                        title  \n",
       "0                Silhouette (feat. Lelijveld)  \n",
       "1   When You're Alone (Lsb Remix) [feat. LSB]  \n",
       "2                                    Anymore!  \n",
       "3   When You're Alone (Lsb Remix) [feat. LSB]  \n",
       "4                                     Forever  "
      ]
     },
     "execution_count": 41,
     "metadata": {},
     "output_type": "execute_result"
    }
   ],
   "source": [
    "newdf.head()"
   ]
  },
  {
   "cell_type": "code",
   "execution_count": 42,
   "id": "5eefd923",
   "metadata": {},
   "outputs": [],
   "source": [
    "newdf=newdf[['album','artist','title','release_year','genre','recognition_date','track_key']]"
   ]
  },
  {
   "cell_type": "code",
   "execution_count": 43,
   "id": "2bdd3aa9",
   "metadata": {},
   "outputs": [
    {
     "data": {
      "text/html": [
       "<div>\n",
       "<style scoped>\n",
       "    .dataframe tbody tr th:only-of-type {\n",
       "        vertical-align: middle;\n",
       "    }\n",
       "\n",
       "    .dataframe tbody tr th {\n",
       "        vertical-align: top;\n",
       "    }\n",
       "\n",
       "    .dataframe thead th {\n",
       "        text-align: right;\n",
       "    }\n",
       "</style>\n",
       "<table border=\"1\" class=\"dataframe\">\n",
       "  <thead>\n",
       "    <tr style=\"text-align: right;\">\n",
       "      <th></th>\n",
       "      <th>album</th>\n",
       "      <th>artist</th>\n",
       "      <th>title</th>\n",
       "      <th>release_year</th>\n",
       "      <th>genre</th>\n",
       "      <th>recognition_date</th>\n",
       "      <th>track_key</th>\n",
       "    </tr>\n",
       "  </thead>\n",
       "  <tbody>\n",
       "  </tbody>\n",
       "</table>\n",
       "</div>"
      ],
      "text/plain": [
       "Empty DataFrame\n",
       "Columns: [album, artist, title, release_year, genre, recognition_date, track_key]\n",
       "Index: []"
      ]
     },
     "execution_count": 43,
     "metadata": {},
     "output_type": "execute_result"
    }
   ],
   "source": [
    "newdf.head(0)"
   ]
  },
  {
   "cell_type": "code",
   "execution_count": 44,
   "id": "58928e5e",
   "metadata": {},
   "outputs": [
    {
     "data": {
      "text/html": [
       "<div>\n",
       "<style scoped>\n",
       "    .dataframe tbody tr th:only-of-type {\n",
       "        vertical-align: middle;\n",
       "    }\n",
       "\n",
       "    .dataframe tbody tr th {\n",
       "        vertical-align: top;\n",
       "    }\n",
       "\n",
       "    .dataframe thead th {\n",
       "        text-align: right;\n",
       "    }\n",
       "</style>\n",
       "<table border=\"1\" class=\"dataframe\">\n",
       "  <thead>\n",
       "    <tr style=\"text-align: right;\">\n",
       "      <th></th>\n",
       "      <th>album</th>\n",
       "      <th>artist</th>\n",
       "      <th>title</th>\n",
       "      <th>release_year</th>\n",
       "      <th>genre</th>\n",
       "      <th>recognition_date</th>\n",
       "      <th>track_key</th>\n",
       "    </tr>\n",
       "  </thead>\n",
       "  <tbody>\n",
       "    <tr>\n",
       "      <th>0</th>\n",
       "      <td>Staying Human - EP</td>\n",
       "      <td>Leon Switch &amp; Truth</td>\n",
       "      <td>Silhouette (feat. Lelijveld)</td>\n",
       "      <td>2017.0</td>\n",
       "      <td>Dance</td>\n",
       "      <td>Thu Nov 10 13:51:22 2022</td>\n",
       "      <td>356162206</td>\n",
       "    </tr>\n",
       "    <tr>\n",
       "      <th>1</th>\n",
       "      <td>Skit City - EP</td>\n",
       "      <td>Foreign Concept</td>\n",
       "      <td>When You're Alone (Lsb Remix) [feat. LSB]</td>\n",
       "      <td>2017.0</td>\n",
       "      <td>Dance</td>\n",
       "      <td>Sat Nov 12 09:34:52 2022</td>\n",
       "      <td>343963949</td>\n",
       "    </tr>\n",
       "    <tr>\n",
       "      <th>2</th>\n",
       "      <td>Eyes Wide Open!</td>\n",
       "      <td>voltsss</td>\n",
       "      <td>Anymore!</td>\n",
       "      <td>2021.0</td>\n",
       "      <td>Hip-Hop/Rap</td>\n",
       "      <td>Sat Nov 12 09:35:36 2022</td>\n",
       "      <td>586227041</td>\n",
       "    </tr>\n",
       "    <tr>\n",
       "      <th>3</th>\n",
       "      <td>Skit City - EP</td>\n",
       "      <td>Foreign Concept</td>\n",
       "      <td>When You're Alone (Lsb Remix) [feat. LSB]</td>\n",
       "      <td>2017.0</td>\n",
       "      <td>Dance</td>\n",
       "      <td>Sat Nov 12 09:35:40 2022</td>\n",
       "      <td>343963949</td>\n",
       "    </tr>\n",
       "    <tr>\n",
       "      <th>4</th>\n",
       "      <td>Forever - Single</td>\n",
       "      <td>Claude Kelly</td>\n",
       "      <td>Forever</td>\n",
       "      <td>2022.0</td>\n",
       "      <td>Blues</td>\n",
       "      <td>Sat Nov 12 09:37:12 2022</td>\n",
       "      <td>469845139</td>\n",
       "    </tr>\n",
       "  </tbody>\n",
       "</table>\n",
       "</div>"
      ],
      "text/plain": [
       "                album                artist  \\\n",
       "0  Staying Human - EP  Leon Switch & Truth    \n",
       "1      Skit City - EP      Foreign Concept    \n",
       "2     Eyes Wide Open!              voltsss    \n",
       "3      Skit City - EP      Foreign Concept    \n",
       "4    Forever - Single         Claude Kelly    \n",
       "\n",
       "                                        title  release_year        genre  \\\n",
       "0                Silhouette (feat. Lelijveld)        2017.0        Dance   \n",
       "1   When You're Alone (Lsb Remix) [feat. LSB]        2017.0        Dance   \n",
       "2                                    Anymore!        2021.0  Hip-Hop/Rap   \n",
       "3   When You're Alone (Lsb Remix) [feat. LSB]        2017.0        Dance   \n",
       "4                                     Forever        2022.0        Blues   \n",
       "\n",
       "           recognition_date  track_key  \n",
       "0  Thu Nov 10 13:51:22 2022  356162206  \n",
       "1  Sat Nov 12 09:34:52 2022  343963949  \n",
       "2  Sat Nov 12 09:35:36 2022  586227041  \n",
       "3  Sat Nov 12 09:35:40 2022  343963949  \n",
       "4  Sat Nov 12 09:37:12 2022  469845139  "
      ]
     },
     "execution_count": 44,
     "metadata": {},
     "output_type": "execute_result"
    }
   ],
   "source": [
    "newdf.head()"
   ]
  },
  {
   "cell_type": "code",
   "execution_count": null,
   "id": "7c63968d",
   "metadata": {},
   "outputs": [],
   "source": []
  }
 ],
 "metadata": {
  "kernelspec": {
   "display_name": "Python 3 (ipykernel)",
   "language": "python",
   "name": "python3"
  },
  "language_info": {
   "codemirror_mode": {
    "name": "ipython",
    "version": 3
   },
   "file_extension": ".py",
   "mimetype": "text/x-python",
   "name": "python",
   "nbconvert_exporter": "python",
   "pygments_lexer": "ipython3",
   "version": "3.9.13"
  }
 },
 "nbformat": 4,
 "nbformat_minor": 5
}
