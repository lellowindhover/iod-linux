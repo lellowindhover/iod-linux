{
 "cells": [
  {
   "cell_type": "code",
   "execution_count": 1,
   "id": "99ee66f6",
   "metadata": {},
   "outputs": [],
   "source": [
    "#for loop"
   ]
  },
  {
   "cell_type": "code",
   "execution_count": 2,
   "id": "7e90e837",
   "metadata": {},
   "outputs": [],
   "source": []
  },
  {
   "cell_type": "code",
   "execution_count": 6,
   "id": "ae01fd1b",
   "metadata": {},
   "outputs": [
    {
     "name": "stdout",
     "output_type": "stream",
     "text": [
      "English\n",
      "French\n",
      "German\n"
     ]
    }
   ],
   "source": [
    "languages  = ['English', 'French','German']\n",
    "for language in languages :\n",
    "    print(language)\n"
   ]
  },
  {
   "cell_type": "code",
   "execution_count": 7,
   "id": "3a830b17",
   "metadata": {},
   "outputs": [
    {
     "name": "stdout",
     "output_type": "stream",
     "text": [
      "1\n",
      "2\n",
      "3\n",
      "4\n",
      "5\n"
     ]
    }
   ],
   "source": [
    "#count = 1 \n",
    "while count <= 5:\n",
    "    print (count)\n",
    "    count = count +1"
   ]
  },
  {
   "cell_type": "code",
   "execution_count": 8,
   "id": "175e0ea8",
   "metadata": {},
   "outputs": [
    {
     "name": "stdout",
     "output_type": "stream",
     "text": [
      "1\n",
      "2\n",
      "3\n",
      "4\n",
      "5\n"
     ]
    }
   ],
   "source": [
    "for count in range (1,6):\n",
    "    print(count)"
   ]
  },
  {
   "cell_type": "code",
   "execution_count": 9,
   "id": "c7383ceb",
   "metadata": {},
   "outputs": [
    {
     "name": "stdout",
     "output_type": "stream",
     "text": [
      "enter an integer:9\n",
      "9 x 1 = 9\n",
      "9 x 2 = 18\n",
      "9 x 3 = 27\n",
      "9 x 4 = 36\n",
      "9 x 5 = 45\n",
      "9 x 6 = 54\n",
      "9 x 7 = 63\n",
      "9 x 8 = 72\n",
      "9 x 9 = 81\n",
      "9 x 10 = 90\n"
     ]
    }
   ],
   "source": [
    "number = int(input('enter an integer:'))\n",
    "for count in range(1,11):\n",
    "    product = number * count\n",
    "    print(number, 'x', count, '=', product)\n"
   ]
  },
  {
   "cell_type": "code",
   "execution_count": 10,
   "id": "ed0585de",
   "metadata": {},
   "outputs": [
    {
     "name": "stdout",
     "output_type": "stream",
     "text": [
      "enter an integer:1\n",
      "1 x 1 = 1\n",
      "1 x 2 = 2\n",
      "1 x 3 = 3\n",
      "1 x 4 = 4\n",
      "1 x 5 = 5\n",
      "1 x 6 = 6\n",
      "1 x 7 = 7\n",
      "1 x 8 = 8\n",
      "1 x 9 = 9\n",
      "1 x 10 = 10\n",
      "1 x 11 = 11\n",
      "1 x 12 = 12\n",
      "1 x 13 = 13\n",
      "1 x 14 = 14\n",
      "1 x 15 = 15\n",
      "1 x 16 = 16\n",
      "1 x 17 = 17\n",
      "1 x 18 = 18\n",
      "1 x 19 = 19\n",
      "1 x 20 = 20\n",
      "1 x 21 = 21\n",
      "1 x 22 = 22\n",
      "1 x 23 = 23\n",
      "1 x 24 = 24\n",
      "1 x 25 = 25\n",
      "1 x 26 = 26\n",
      "1 x 27 = 27\n",
      "1 x 28 = 28\n",
      "1 x 29 = 29\n",
      "1 x 30 = 30\n",
      "1 x 31 = 31\n",
      "1 x 32 = 32\n",
      "1 x 33 = 33\n",
      "1 x 34 = 34\n",
      "1 x 35 = 35\n",
      "1 x 36 = 36\n",
      "1 x 37 = 37\n",
      "1 x 38 = 38\n",
      "1 x 39 = 39\n",
      "1 x 40 = 40\n",
      "1 x 41 = 41\n",
      "1 x 42 = 42\n",
      "1 x 43 = 43\n",
      "1 x 44 = 44\n",
      "1 x 45 = 45\n",
      "1 x 46 = 46\n",
      "1 x 47 = 47\n",
      "1 x 48 = 48\n",
      "1 x 49 = 49\n",
      "1 x 50 = 50\n",
      "1 x 51 = 51\n",
      "1 x 52 = 52\n",
      "1 x 53 = 53\n",
      "1 x 54 = 54\n",
      "1 x 55 = 55\n",
      "1 x 56 = 56\n",
      "1 x 57 = 57\n",
      "1 x 58 = 58\n",
      "1 x 59 = 59\n",
      "1 x 60 = 60\n",
      "1 x 61 = 61\n",
      "1 x 62 = 62\n",
      "1 x 63 = 63\n",
      "1 x 64 = 64\n",
      "1 x 65 = 65\n",
      "1 x 66 = 66\n",
      "1 x 67 = 67\n",
      "1 x 68 = 68\n",
      "1 x 69 = 69\n",
      "1 x 70 = 70\n",
      "1 x 71 = 71\n",
      "1 x 72 = 72\n",
      "1 x 73 = 73\n",
      "1 x 74 = 74\n",
      "1 x 75 = 75\n",
      "1 x 76 = 76\n",
      "1 x 77 = 77\n",
      "1 x 78 = 78\n",
      "1 x 79 = 79\n",
      "1 x 80 = 80\n",
      "1 x 81 = 81\n",
      "1 x 82 = 82\n",
      "1 x 83 = 83\n",
      "1 x 84 = 84\n",
      "1 x 85 = 85\n",
      "1 x 86 = 86\n",
      "1 x 87 = 87\n",
      "1 x 88 = 88\n",
      "1 x 89 = 89\n",
      "1 x 90 = 90\n",
      "1 x 91 = 91\n",
      "1 x 92 = 92\n",
      "1 x 93 = 93\n",
      "1 x 94 = 94\n",
      "1 x 95 = 95\n",
      "1 x 96 = 96\n",
      "1 x 97 = 97\n",
      "1 x 98 = 98\n",
      "1 x 99 = 99\n",
      "1 x 100 = 100\n"
     ]
    }
   ],
   "source": [
    "number = int(input('enter an integer:'))\n",
    "for count in range(1,101):\n",
    "    product = number * count\n",
    "    print(number, 'x', count, '=', product)"
   ]
  },
  {
   "cell_type": "code",
   "execution_count": null,
   "id": "8c9fff65",
   "metadata": {},
   "outputs": [],
   "source": []
  }
 ],
 "metadata": {
  "kernelspec": {
   "display_name": "Python 3 (ipykernel)",
   "language": "python",
   "name": "python3"
  },
  "language_info": {
   "codemirror_mode": {
    "name": "ipython",
    "version": 3
   },
   "file_extension": ".py",
   "mimetype": "text/x-python",
   "name": "python",
   "nbconvert_exporter": "python",
   "pygments_lexer": "ipython3",
   "version": "3.9.13"
  }
 },
 "nbformat": 4,
 "nbformat_minor": 5
}
