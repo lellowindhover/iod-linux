{
 "cells": [
  {
   "cell_type": "code",
   "execution_count": 1,
   "id": "249826a2",
   "metadata": {},
   "outputs": [],
   "source": [
    "#break and continue statements\n"
   ]
  },
  {
   "cell_type": "code",
   "execution_count": 4,
   "id": "ab73b502",
   "metadata": {},
   "outputs": [
    {
     "name": "stdout",
     "output_type": "stream",
     "text": [
      "1\n",
      "2\n",
      "the end\n"
     ]
    }
   ],
   "source": [
    "for item in range(1,6):\n",
    "    if item == 3: \n",
    "        break\n",
    "    print(item)\n",
    "print('the end')    "
   ]
  },
  {
   "cell_type": "code",
   "execution_count": 5,
   "id": "5c01415d",
   "metadata": {
    "scrolled": true
   },
   "outputs": [
    {
     "name": "stdout",
     "output_type": "stream",
     "text": [
      "enter a number:4\n",
      "you entered:  4.0\n",
      "enter a number:67\n",
      "you entered:  67.0\n",
      "enter a number:-9\n"
     ]
    }
   ],
   "source": [
    "while True:\n",
    "    number = float(input('enter a number:'))\n",
    "    if number < 0:\n",
    "        break\n",
    "    print('you entered: ', number)    "
   ]
  },
  {
   "cell_type": "code",
   "execution_count": null,
   "id": "dd19bc4e",
   "metadata": {},
   "outputs": [],
   "source": [
    "for i in range(5):\n",
    "    number = float(input('enter a number:'))\n",
    "    \n",
    "    if number < 0:\n",
    "        continue\n",
    "    print(number)"
   ]
  },
  {
   "cell_type": "code",
   "execution_count": 7,
   "id": "a6528849",
   "metadata": {},
   "outputs": [
    {
     "name": "stdout",
     "output_type": "stream",
     "text": [
      "python\n",
      "java\n",
      "c\n"
     ]
    }
   ],
   "source": [
    "languages =['python','java','swift','c','c++']\n",
    "\n",
    "for language in languages:\n",
    "    if language == 'swift' or language == 'c++':\n",
    "        continue\n",
    "    print(language)"
   ]
  },
  {
   "cell_type": "code",
   "execution_count": null,
   "id": "bcf43b02",
   "metadata": {},
   "outputs": [],
   "source": []
  }
 ],
 "metadata": {
  "kernelspec": {
   "display_name": "Python 3 (ipykernel)",
   "language": "python",
   "name": "python3"
  },
  "language_info": {
   "codemirror_mode": {
    "name": "ipython",
    "version": 3
   },
   "file_extension": ".py",
   "mimetype": "text/x-python",
   "name": "python",
   "nbconvert_exporter": "python",
   "pygments_lexer": "ipython3",
   "version": "3.9.13"
  }
 },
 "nbformat": 4,
 "nbformat_minor": 5
}
