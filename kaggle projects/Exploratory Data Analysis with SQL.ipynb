{
 "cells": [
  {
   "cell_type": "markdown",
   "id": "1b2158d5",
   "metadata": {},
   "source": [
    "## Exploratory Data Analysis with SQL"
   ]
  },
  {
   "cell_type": "code",
   "execution_count": 1,
   "id": "77a3ba02",
   "metadata": {},
   "outputs": [],
   "source": [
    "# Sqlite is a library that implements a SQL database engine. \n",
    "import sqlite3\n",
    "import numpy as np\n",
    "import pandas as pd\n",
    "%matplotlib inline\n",
    "import matplotlib.pyplot as plt\n",
    "import seaborn as sns"
   ]
  },
  {
   "cell_type": "code",
   "execution_count": 2,
   "id": "af72cfb6",
   "metadata": {},
   "outputs": [],
   "source": [
    "#connection\n",
    "conn = sqlite3.connect('/home/gaio/Documents/GitHub/iod-linux/DATA/database.sqlite')"
   ]
  },
  {
   "cell_type": "code",
   "execution_count": 3,
   "id": "a07fcfd5",
   "metadata": {},
   "outputs": [
    {
     "data": {
      "text/html": [
       "<div>\n",
       "<style scoped>\n",
       "    .dataframe tbody tr th:only-of-type {\n",
       "        vertical-align: middle;\n",
       "    }\n",
       "\n",
       "    .dataframe tbody tr th {\n",
       "        vertical-align: top;\n",
       "    }\n",
       "\n",
       "    .dataframe thead th {\n",
       "        text-align: right;\n",
       "    }\n",
       "</style>\n",
       "<table border=\"1\" class=\"dataframe\">\n",
       "  <thead>\n",
       "    <tr style=\"text-align: right;\">\n",
       "      <th></th>\n",
       "      <th>type</th>\n",
       "      <th>name</th>\n",
       "      <th>tbl_name</th>\n",
       "      <th>rootpage</th>\n",
       "      <th>sql</th>\n",
       "    </tr>\n",
       "  </thead>\n",
       "  <tbody>\n",
       "    <tr>\n",
       "      <th>0</th>\n",
       "      <td>table</td>\n",
       "      <td>Country</td>\n",
       "      <td>Country</td>\n",
       "      <td>2</td>\n",
       "      <td>CREATE TABLE Country (\\n    CountryCode TEXT,\\...</td>\n",
       "    </tr>\n",
       "    <tr>\n",
       "      <th>1</th>\n",
       "      <td>table</td>\n",
       "      <td>CountryNotes</td>\n",
       "      <td>CountryNotes</td>\n",
       "      <td>186</td>\n",
       "      <td>CREATE TABLE CountryNotes (\\n    Countrycode T...</td>\n",
       "    </tr>\n",
       "    <tr>\n",
       "      <th>2</th>\n",
       "      <td>table</td>\n",
       "      <td>Series</td>\n",
       "      <td>Series</td>\n",
       "      <td>948</td>\n",
       "      <td>CREATE TABLE Series (\\n    SeriesCode TEXT,\\n ...</td>\n",
       "    </tr>\n",
       "    <tr>\n",
       "      <th>3</th>\n",
       "      <td>table</td>\n",
       "      <td>Indicators</td>\n",
       "      <td>Indicators</td>\n",
       "      <td>4448</td>\n",
       "      <td>CREATE TABLE Indicators (\\n    CountryName TEX...</td>\n",
       "    </tr>\n",
       "    <tr>\n",
       "      <th>4</th>\n",
       "      <td>table</td>\n",
       "      <td>SeriesNotes</td>\n",
       "      <td>SeriesNotes</td>\n",
       "      <td>1317550</td>\n",
       "      <td>CREATE TABLE SeriesNotes (\\n    Seriescode TEX...</td>\n",
       "    </tr>\n",
       "    <tr>\n",
       "      <th>5</th>\n",
       "      <td>table</td>\n",
       "      <td>Footnotes</td>\n",
       "      <td>Footnotes</td>\n",
       "      <td>1317587</td>\n",
       "      <td>CREATE TABLE Footnotes (\\n    Countrycode TEXT...</td>\n",
       "    </tr>\n",
       "  </tbody>\n",
       "</table>\n",
       "</div>"
      ],
      "text/plain": [
       "    type          name      tbl_name  rootpage  \\\n",
       "0  table       Country       Country         2   \n",
       "1  table  CountryNotes  CountryNotes       186   \n",
       "2  table        Series        Series       948   \n",
       "3  table    Indicators    Indicators      4448   \n",
       "4  table   SeriesNotes   SeriesNotes   1317550   \n",
       "5  table     Footnotes     Footnotes   1317587   \n",
       "\n",
       "                                                 sql  \n",
       "0  CREATE TABLE Country (\\n    CountryCode TEXT,\\...  \n",
       "1  CREATE TABLE CountryNotes (\\n    Countrycode T...  \n",
       "2  CREATE TABLE Series (\\n    SeriesCode TEXT,\\n ...  \n",
       "3  CREATE TABLE Indicators (\\n    CountryName TEX...  \n",
       "4  CREATE TABLE SeriesNotes (\\n    Seriescode TEX...  \n",
       "5  CREATE TABLE Footnotes (\\n    Countrycode TEXT...  "
      ]
     },
     "execution_count": 3,
     "metadata": {},
     "output_type": "execute_result"
    }
   ],
   "source": [
    "#sqlite_master is a table with database schema\n",
    "pd.read_sql(\"\"\" SELECT *\n",
    "                FROM sqlite_master\n",
    "                WHERE type='table';\"\"\",conn)"
   ]
  },
  {
   "cell_type": "markdown",
   "id": "315a0530",
   "metadata": {},
   "source": [
    "\n",
    "Let's explore the Indicators table.\n"
   ]
  },
  {
   "cell_type": "code",
   "execution_count": 10,
   "id": "e024e78b",
   "metadata": {},
   "outputs": [
    {
     "data": {
      "text/html": [
       "<div>\n",
       "<style scoped>\n",
       "    .dataframe tbody tr th:only-of-type {\n",
       "        vertical-align: middle;\n",
       "    }\n",
       "\n",
       "    .dataframe tbody tr th {\n",
       "        vertical-align: top;\n",
       "    }\n",
       "\n",
       "    .dataframe thead th {\n",
       "        text-align: right;\n",
       "    }\n",
       "</style>\n",
       "<table border=\"1\" class=\"dataframe\">\n",
       "  <thead>\n",
       "    <tr style=\"text-align: right;\">\n",
       "      <th></th>\n",
       "      <th>Countrycode</th>\n",
       "      <th>Seriescode</th>\n",
       "      <th>Description</th>\n",
       "    </tr>\n",
       "  </thead>\n",
       "  <tbody>\n",
       "    <tr>\n",
       "      <th>0</th>\n",
       "      <td>ABW</td>\n",
       "      <td>EG.EGY.PRIM.PP.KD</td>\n",
       "      <td>Sources: Estimated based on UN Energy Statisti...</td>\n",
       "    </tr>\n",
       "    <tr>\n",
       "      <th>1</th>\n",
       "      <td>ABW</td>\n",
       "      <td>EG.ELC.RNEW.ZS</td>\n",
       "      <td>Sources: UN Energy Statistics (2014)</td>\n",
       "    </tr>\n",
       "    <tr>\n",
       "      <th>2</th>\n",
       "      <td>ABW</td>\n",
       "      <td>EG.FEC.RNEW.ZS</td>\n",
       "      <td>Sources: UN Energy Statistics (2014)</td>\n",
       "    </tr>\n",
       "    <tr>\n",
       "      <th>3</th>\n",
       "      <td>ABW</td>\n",
       "      <td>SM.POP.NETM</td>\n",
       "      <td>Data sources : United Nations World Population...</td>\n",
       "    </tr>\n",
       "    <tr>\n",
       "      <th>4</th>\n",
       "      <td>ABW</td>\n",
       "      <td>SM.POP.TOTL</td>\n",
       "      <td>Estimates are derived from data on foreign-bor...</td>\n",
       "    </tr>\n",
       "    <tr>\n",
       "      <th>5</th>\n",
       "      <td>ABW</td>\n",
       "      <td>SP.DYN.AMRT.FE</td>\n",
       "      <td>Data source : United Nations World Population ...</td>\n",
       "    </tr>\n",
       "    <tr>\n",
       "      <th>6</th>\n",
       "      <td>ABW</td>\n",
       "      <td>SP.DYN.AMRT.MA</td>\n",
       "      <td>Data source : United Nations World Population ...</td>\n",
       "    </tr>\n",
       "    <tr>\n",
       "      <th>7</th>\n",
       "      <td>ABW</td>\n",
       "      <td>SP.DYN.CBRT.IN</td>\n",
       "      <td>Data sources : United Nations World Population...</td>\n",
       "    </tr>\n",
       "    <tr>\n",
       "      <th>8</th>\n",
       "      <td>ABW</td>\n",
       "      <td>SP.DYN.CDRT.IN</td>\n",
       "      <td>Data sources : United Nations World Population...</td>\n",
       "    </tr>\n",
       "    <tr>\n",
       "      <th>9</th>\n",
       "      <td>ABW</td>\n",
       "      <td>SP.DYN.LE00.FE.IN</td>\n",
       "      <td>Data sources : United Nations World Population...</td>\n",
       "    </tr>\n",
       "  </tbody>\n",
       "</table>\n",
       "</div>"
      ],
      "text/plain": [
       "  Countrycode         Seriescode  \\\n",
       "0         ABW  EG.EGY.PRIM.PP.KD   \n",
       "1         ABW     EG.ELC.RNEW.ZS   \n",
       "2         ABW     EG.FEC.RNEW.ZS   \n",
       "3         ABW        SM.POP.NETM   \n",
       "4         ABW        SM.POP.TOTL   \n",
       "5         ABW     SP.DYN.AMRT.FE   \n",
       "6         ABW     SP.DYN.AMRT.MA   \n",
       "7         ABW     SP.DYN.CBRT.IN   \n",
       "8         ABW     SP.DYN.CDRT.IN   \n",
       "9         ABW  SP.DYN.LE00.FE.IN   \n",
       "\n",
       "                                         Description  \n",
       "0  Sources: Estimated based on UN Energy Statisti...  \n",
       "1               Sources: UN Energy Statistics (2014)  \n",
       "2               Sources: UN Energy Statistics (2014)  \n",
       "3  Data sources : United Nations World Population...  \n",
       "4  Estimates are derived from data on foreign-bor...  \n",
       "5  Data source : United Nations World Population ...  \n",
       "6  Data source : United Nations World Population ...  \n",
       "7  Data sources : United Nations World Population...  \n",
       "8  Data sources : United Nations World Population...  \n",
       "9  Data sources : United Nations World Population...  "
      ]
     },
     "execution_count": 10,
     "metadata": {},
     "output_type": "execute_result"
    }
   ],
   "source": [
    "# check the head\n",
    "pd.read_sql('''SELECT * FROM CountryNotes LIMIT 10;''', conn)"
   ]
  },
  {
   "cell_type": "code",
   "execution_count": null,
   "id": "878d5c80",
   "metadata": {},
   "outputs": [],
   "source": []
  },
  {
   "cell_type": "code",
   "execution_count": null,
   "id": "034fe7be",
   "metadata": {},
   "outputs": [],
   "source": []
  },
  {
   "cell_type": "code",
   "execution_count": null,
   "id": "b9ff470b",
   "metadata": {},
   "outputs": [],
   "source": []
  },
  {
   "cell_type": "code",
   "execution_count": null,
   "id": "e854870d",
   "metadata": {},
   "outputs": [],
   "source": []
  },
  {
   "cell_type": "code",
   "execution_count": null,
   "id": "2719166e",
   "metadata": {},
   "outputs": [],
   "source": []
  },
  {
   "cell_type": "code",
   "execution_count": null,
   "id": "3a7085d7",
   "metadata": {},
   "outputs": [],
   "source": []
  },
  {
   "cell_type": "code",
   "execution_count": null,
   "id": "8ec4e3c0",
   "metadata": {},
   "outputs": [],
   "source": []
  },
  {
   "cell_type": "code",
   "execution_count": null,
   "id": "dd2f11c0",
   "metadata": {},
   "outputs": [],
   "source": []
  },
  {
   "cell_type": "code",
   "execution_count": null,
   "id": "5a85059f",
   "metadata": {},
   "outputs": [],
   "source": []
  },
  {
   "cell_type": "code",
   "execution_count": null,
   "id": "3aee4bce",
   "metadata": {},
   "outputs": [],
   "source": [
    "# check the head\n",
    "pd.read_sql(\"\"\"SELECT *\n",
    "               FROM Indicators\n",
    "               LIMIT 3;\"\"\",\n",
    "           conn)"
   ]
  },
  {
   "cell_type": "code",
   "execution_count": null,
   "id": "bbdf9624",
   "metadata": {},
   "outputs": [],
   "source": [
    "# how many rows?\n",
    "pd.read_sql(\"\"\"SELECT COUNT(*)\n",
    "               FROM Indicators;\"\"\",\n",
    "           conn)"
   ]
  },
  {
   "cell_type": "code",
   "execution_count": null,
   "id": "f3735b2e",
   "metadata": {},
   "outputs": [],
   "source": [
    "df.info()"
   ]
  },
  {
   "cell_type": "code",
   "execution_count": null,
   "id": "76c4b988",
   "metadata": {},
   "outputs": [],
   "source": [
    "# selecting distinct indicators\n",
    "pd.read_sql(\"\"\"SELECT DISTINCT IndicatorName\n",
    "                FROM Indicators;\"\"\",\n",
    "           conn)"
   ]
  },
  {
   "cell_type": "code",
   "execution_count": null,
   "id": "6f980010",
   "metadata": {},
   "outputs": [],
   "source": [
    "# I wanna search for some indicator about GDP\n",
    "pd.read_sql(\"\"\"SELECT DISTINCT IndicatorName\n",
    "               FROM Indicators\n",
    "               WHERE IndicatorName LIKE 'GDP%';\"\"\",\n",
    "           conn)"
   ]
  },
  {
   "cell_type": "code",
   "execution_count": null,
   "id": "c82c7442",
   "metadata": {},
   "outputs": [],
   "source": [
    "\n",
    "\n",
    "# how about GDP per capita of Brazil in last years ?\n",
    "gdpbrazil=pd.read_sql(\"\"\" SELECT *\n",
    "                FROM Indicators\n",
    "                WHERE IndicatorName ='GDP per capita (current US$)'\n",
    "                AND CountryName = \"Brazil\"\n",
    "                AND Year>=2000;\n",
    "                \"\"\",\n",
    "           conn)\n",
    "\n"
   ]
  },
  {
   "cell_type": "code",
   "execution_count": null,
   "id": "df723bb7",
   "metadata": {},
   "outputs": [],
   "source": [
    "sns.lineplot(data= gdpbrazil );"
   ]
  },
  {
   "cell_type": "code",
   "execution_count": null,
   "id": "30fe0efb",
   "metadata": {},
   "outputs": [],
   "source": [
    "\n",
    "\n",
    "# let's search for the highest GDP per capita in 2014\n",
    "pd.read_sql(\"\"\"SELECT CountryName, MAX (Value)\n",
    "               FROM Indicators\n",
    "               WHERE IndicatorName = 'GDP per capita (current US$)'\n",
    "               AND Year = 2014;\"\"\",\n",
    "            conn)\n",
    "\n"
   ]
  },
  {
   "cell_type": "code",
   "execution_count": null,
   "id": "a54ea3dc",
   "metadata": {},
   "outputs": [],
   "source": [
    "\n",
    "\n",
    "#Let's order (and reafirm the highest GDP per capita)\n",
    "pd.read_sql(\"\"\"SELECT * \n",
    "               FROM Indicators\n",
    "               WHERE IndicatorName='GDP per capita (current US$)'\n",
    "               AND Year= 1995\n",
    "               ORDER BY Value DESC\n",
    "               LIMIT 3;\"\"\",\n",
    "           conn)\n",
    "\n"
   ]
  },
  {
   "cell_type": "code",
   "execution_count": null,
   "id": "2f7fc35c",
   "metadata": {},
   "outputs": [],
   "source": [
    "\n",
    "\n",
    "#how many measures during this time?\n",
    "pd.read_sql(\"\"\" SELECT CountryName, count (*) AS n_measures\n",
    "                FROM Indicators\n",
    "                WHERE IndicatorName= 'GDP per capita (current US$)'\n",
    "                AND CountryName IN ('Brazil', 'China', 'India', 'Angola')\n",
    "                AND Year>2010\n",
    "                GROUP BY CountryName\n",
    "                ORDER BY n_measures\n",
    "                LIMIT 10;\"\"\",\n",
    "           conn)\n",
    "\n"
   ]
  },
  {
   "cell_type": "code",
   "execution_count": null,
   "id": "ade3c6a2",
   "metadata": {},
   "outputs": [],
   "source": [
    "\n",
    "\n",
    "# important to know that Angola has less measures during this time\n",
    "pd.read_sql(\"\"\" SELECT *\n",
    "                FROM Indicators\n",
    "                WHERE IndicatorName= 'GDP per capita (current US$)'\n",
    "                AND CountryName = 'Angola'\n",
    "                AND Year>2010;\"\"\",\n",
    "           conn)\n",
    "\n"
   ]
  },
  {
   "cell_type": "code",
   "execution_count": null,
   "id": "23902e42",
   "metadata": {},
   "outputs": [],
   "source": [
    "pd.read_sql(\"\"\"SELECT indicators \"\"\")"
   ]
  },
  {
   "cell_type": "markdown",
   "id": "8690117e",
   "metadata": {},
   "source": [
    "1. Using the country table, how many upper middle income countries are there? 1a. Can you draw a barplot comparing the different categories and the number of countries? 2. Using the country table, how many countries use the Euro? 2a. Draw a barplot like above "
   ]
  },
  {
   "cell_type": "markdown",
   "id": "73c2de78",
   "metadata": {},
   "source": [
    "3. Which country has the highest fertility in year 2010? 4. What is the average fertility rate in year 2014? "
   ]
  },
  {
   "cell_type": "code",
   "execution_count": null,
   "id": "413b4b7d",
   "metadata": {},
   "outputs": [],
   "source": [
    "df.head()"
   ]
  },
  {
   "cell_type": "code",
   "execution_count": null,
   "id": "6131c78c",
   "metadata": {},
   "outputs": [],
   "source": [
    "df['IncomeGroup'] .value_counts('Upper middle income')"
   ]
  },
  {
   "cell_type": "code",
   "execution_count": null,
   "id": "ec3e8b58",
   "metadata": {},
   "outputs": [],
   "source": [
    "\n",
    "\n"
   ]
  },
  {
   "cell_type": "code",
   "execution_count": null,
   "id": "5a754cef",
   "metadata": {},
   "outputs": [],
   "source": []
  }
 ],
 "metadata": {
  "kernelspec": {
   "display_name": "Python 3 (ipykernel)",
   "language": "python",
   "name": "python3"
  },
  "language_info": {
   "codemirror_mode": {
    "name": "ipython",
    "version": 3
   },
   "file_extension": ".py",
   "mimetype": "text/x-python",
   "name": "python",
   "nbconvert_exporter": "python",
   "pygments_lexer": "ipython3",
   "version": "3.9.13"
  }
 },
 "nbformat": 4,
 "nbformat_minor": 5
}
