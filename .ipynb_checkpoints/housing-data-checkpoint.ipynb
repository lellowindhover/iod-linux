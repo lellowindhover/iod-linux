{
 "cells": [
  {
   "cell_type": "markdown",
   "id": "58a94c8c",
   "metadata": {},
   "source": [
    "# numpy and pandas notebook"
   ]
  },
  {
   "cell_type": "code",
   "execution_count": null,
   "id": "3af4dbfb",
   "metadata": {},
   "outputs": [],
   "source": []
  },
  {
   "cell_type": "code",
   "execution_count": 2,
   "id": "9a117289",
   "metadata": {},
   "outputs": [],
   "source": [
    "#import numpy\n"
   ]
  },
  {
   "cell_type": "code",
   "execution_count": 1,
   "id": "2d0a5391",
   "metadata": {},
   "outputs": [],
   "source": [
    "import numpy as np"
   ]
  },
  {
   "cell_type": "code",
   "execution_count": null,
   "id": "07899bd1",
   "metadata": {},
   "outputs": [],
   "source": [
    "#import pandas"
   ]
  },
  {
   "cell_type": "code",
   "execution_count": 34,
   "id": "af4f7226",
   "metadata": {},
   "outputs": [
    {
     "name": "stdout",
     "output_type": "stream",
     "text": [
      "(47, 4)\n",
      "188\n",
      "3\n",
      "sqft     int64\n",
      "bdrms    int64\n",
      "age      int64\n",
      "price    int64\n",
      "dtype: object\n",
      "<class 'pandas.core.frame.DataFrame'>\n",
      "RangeIndex: 47 entries, 0 to 46\n",
      "Data columns (total 4 columns):\n",
      " #   Column  Non-Null Count  Dtype\n",
      "---  ------  --------------  -----\n",
      " 0   sqft    47 non-null     int64\n",
      " 1   bdrms   47 non-null     int64\n",
      " 2   age     47 non-null     int64\n",
      " 3   price   47 non-null     int64\n",
      "dtypes: int64(4)\n",
      "memory usage: 1.6 KB\n"
     ]
    }
   ],
   "source": [
    "import pandas as pd\n",
    "pd.options.display.max_rows = 200\n",
    "df = pd.read_csv('housing-data.csv')\n",
    "#tells me the amount of coloms and rows\n",
    "print(df.shape )\n",
    "#Number of elements in the array\n",
    "print(df.size)\n",
    "\n",
    "print(df[\"bdrms\"][0])\n",
    "\n",
    "print(df.dtypes )\n",
    "df.info()\n",
    "df.tail()"
   ]
  },
  {
   "cell_type": "code",
   "execution_count": 11,
   "id": "1a26954e",
   "metadata": {
    "scrolled": false
   },
   "outputs": [
    {
     "name": "stdout",
     "output_type": "stream",
     "text": [
      "    sqft  bdrms  age   price\n",
      "0   2104      3   70  399900\n",
      "1   1600      3   28  329900\n",
      "2   2400      3   44  369000\n",
      "3   1416      2   49  232000\n",
      "4   3000      4   75  539900\n",
      "5   1985      4   61  299900\n",
      "6   1534      3   12  314900\n",
      "7   1427      3   57  198999\n",
      "8   1380      3   14  212000\n",
      "9   1494      3   15  242500\n",
      "10  1940      4    7  239999\n",
      "11  2000      3   27  347000\n",
      "12  1890      3   45  329999\n",
      "13  4478      5   49  699900\n",
      "14  1268      3   58  259900\n",
      "15  2300      4   77  449900\n",
      "16  1320      2   62  299900\n",
      "17  1236      3   78  199900\n",
      "18  2609      4    5  499998\n",
      "19  3031      4   21  599000\n",
      "20  1767      3   44  252900\n",
      "21  1888      2   79  255000\n",
      "22  1604      3   13  242900\n",
      "23  1962      4   53  259900\n",
      "24  3890      3   36  573900\n",
      "25  1100      3   60  249900\n",
      "26  1458      3   29  464500\n",
      "27  2526      3   13  469000\n",
      "28  2200      3   28  475000\n",
      "29  2637      3   25  299900\n",
      "30  1839      2   40  349900\n",
      "31  1000      1    5  169900\n",
      "32  2040      4   75  314900\n",
      "33  3137      3   67  579900\n",
      "34  1811      4   24  285900\n",
      "35  1437      3   50  249900\n",
      "36  1239      3   22  229900\n",
      "37  2132      4   28  345000\n",
      "38  4215      4   66  549000\n",
      "39  2162      4   43  287000\n",
      "40  1664      2   40  368500\n",
      "41  2238      3   37  329900\n",
      "42  2567      4   57  314000\n",
      "43  1200      3   76  299000\n",
      "44   852      2   70  179900\n",
      "45  1852      4   64  299900\n",
      "46  1203      3   11  239500\n"
     ]
    }
   ],
   "source": [
    "import pandas as pd\n",
    "pd.options.display.max_rows = 200\n",
    "df = pd.read_csv('housing-data.csv')\n",
    "print(df )\n",
    "\n",
    "\n",
    "#new_df= df.dropna()\n",
    "#print(new_df.info())\n"
   ]
  },
  {
   "cell_type": "code",
   "execution_count": 12,
   "id": "559e3b7e",
   "metadata": {},
   "outputs": [
    {
     "name": "stdout",
     "output_type": "stream",
     "text": [
      "0     False\n",
      "1     False\n",
      "2     False\n",
      "3     False\n",
      "4     False\n",
      "5     False\n",
      "6     False\n",
      "7     False\n",
      "8     False\n",
      "9     False\n",
      "10    False\n",
      "11    False\n",
      "12    False\n",
      "13    False\n",
      "14    False\n",
      "15    False\n",
      "16    False\n",
      "17    False\n",
      "18    False\n",
      "19    False\n",
      "20    False\n",
      "21    False\n",
      "22    False\n",
      "23    False\n",
      "24    False\n",
      "25    False\n",
      "26    False\n",
      "27    False\n",
      "28    False\n",
      "29    False\n",
      "30    False\n",
      "31    False\n",
      "32    False\n",
      "33    False\n",
      "34    False\n",
      "35    False\n",
      "36    False\n",
      "37    False\n",
      "38    False\n",
      "39    False\n",
      "40    False\n",
      "41    False\n",
      "42    False\n",
      "43    False\n",
      "44    False\n",
      "45    False\n",
      "46    False\n",
      "dtype: bool\n"
     ]
    }
   ],
   "source": [
    "import pandas as pd\n",
    "pd.options.display.max_rows = 200\n",
    "df = pd.read_csv('housing-data.csv')\n",
    "print(df.duplicated())\n",
    "\n",
    "\n"
   ]
  },
  {
   "cell_type": "code",
   "execution_count": 16,
   "id": "2fd26af0",
   "metadata": {},
   "outputs": [
    {
     "ename": "SyntaxError",
     "evalue": "unexpected EOF while parsing (649027244.py, line 7)",
     "output_type": "error",
     "traceback": [
      "\u001b[0;36m  Input \u001b[0;32mIn [16]\u001b[0;36m\u001b[0m\n\u001b[0;31m    \u001b[0m\n\u001b[0m    ^\u001b[0m\n\u001b[0;31mSyntaxError\u001b[0m\u001b[0;31m:\u001b[0m unexpected EOF while parsing\n"
     ]
    }
   ],
   "source": [
    "import pandas as pd\n",
    "pd.options.display.max_rows = 200\n",
    "df = pd.read_csv('housing-data.csv')\n",
    "df.tail()\n",
    "print(df[ ]\n",
    "\n"
   ]
  },
  {
   "cell_type": "code",
   "execution_count": null,
   "id": "3422b240",
   "metadata": {},
   "outputs": [],
   "source": []
  },
  {
   "cell_type": "code",
   "execution_count": null,
   "id": "0ebea5b1",
   "metadata": {},
   "outputs": [],
   "source": []
  }
 ],
 "metadata": {
  "kernelspec": {
   "display_name": "Python 3 (ipykernel)",
   "language": "python",
   "name": "python3"
  },
  "language_info": {
   "codemirror_mode": {
    "name": "ipython",
    "version": 3
   },
   "file_extension": ".py",
   "mimetype": "text/x-python",
   "name": "python",
   "nbconvert_exporter": "python",
   "pygments_lexer": "ipython3",
   "version": "3.9.13"
  }
 },
 "nbformat": 4,
 "nbformat_minor": 5
}
