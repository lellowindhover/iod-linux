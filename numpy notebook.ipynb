{
 "cells": [
  {
   "cell_type": "markdown",
   "id": "58a94c8c",
   "metadata": {},
   "source": [
    "# numpy and pandas notebook"
   ]
  },
  {
   "cell_type": "code",
   "execution_count": null,
   "id": "3af4dbfb",
   "metadata": {},
   "outputs": [],
   "source": []
  },
  {
   "cell_type": "code",
   "execution_count": 2,
   "id": "9a117289",
   "metadata": {},
   "outputs": [],
   "source": [
    "#import numpy\n"
   ]
  },
  {
   "cell_type": "code",
   "execution_count": 1,
   "id": "2d0a5391",
   "metadata": {},
   "outputs": [],
   "source": [
    "import numpy as np"
   ]
  },
  {
   "cell_type": "code",
   "execution_count": null,
   "id": "07899bd1",
   "metadata": {},
   "outputs": [],
   "source": [
    "#import pandas"
   ]
  },
  {
   "cell_type": "code",
   "execution_count": 3,
   "id": "af4f7226",
   "metadata": {},
   "outputs": [],
   "source": [
    "import pandas as pd"
   ]
  },
  {
   "cell_type": "code",
   "execution_count": 4,
   "id": "1a26954e",
   "metadata": {},
   "outputs": [
    {
     "name": "stdout",
     "output_type": "stream",
     "text": [
      "numpy imported\n"
     ]
    }
   ],
   "source": [
    "print('numpy imported')"
   ]
  },
  {
   "cell_type": "code",
   "execution_count": 5,
   "id": "559e3b7e",
   "metadata": {},
   "outputs": [
    {
     "name": "stdout",
     "output_type": "stream",
     "text": [
      "enter a number :6\n",
      "6 x 1 = 6\n",
      "6 x 2 = 12\n",
      "6 x 3 = 18\n",
      "6 x 4 = 24\n",
      "6 x 5 = 30\n",
      "6 x 6 = 36\n",
      "6 x 7 = 42\n",
      "6 x 8 = 48\n",
      "6 x 9 = 54\n",
      "6 x 10 = 60\n"
     ]
    }
   ],
   "source": [
    "number = int(input('enter a number :'))\n",
    "\n",
    "count = 1\n",
    "while count <= 10:\n",
    "    product = number * count\n",
    "    print(number, 'x', count, '=', product)\n",
    "    count = count +1\n",
    "    "
   ]
  },
  {
   "cell_type": "code",
   "execution_count": null,
   "id": "2fd26af0",
   "metadata": {},
   "outputs": [],
   "source": []
  },
  {
   "cell_type": "code",
   "execution_count": null,
   "id": "3422b240",
   "metadata": {},
   "outputs": [],
   "source": []
  },
  {
   "cell_type": "code",
   "execution_count": null,
   "id": "0ebea5b1",
   "metadata": {},
   "outputs": [],
   "source": []
  }
 ],
 "metadata": {
  "kernelspec": {
   "display_name": "Python 3 (ipykernel)",
   "language": "python",
   "name": "python3"
  },
  "language_info": {
   "codemirror_mode": {
    "name": "ipython",
    "version": 3
   },
   "file_extension": ".py",
   "mimetype": "text/x-python",
   "name": "python",
   "nbconvert_exporter": "python",
   "pygments_lexer": "ipython3",
   "version": "3.9.13"
  }
 },
 "nbformat": 4,
 "nbformat_minor": 5
}
